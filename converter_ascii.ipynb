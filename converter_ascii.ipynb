{
 "cells": [
  {
   "cell_type": "code",
   "execution_count": 1,
   "metadata": {},
   "outputs": [],
   "source": [
    "import os \n",
    "import sys\n",
    "import base64"
   ]
  },
  {
   "cell_type": "code",
   "execution_count": 1,
   "metadata": {},
   "outputs": [],
   "source": [
    "def read_file_as_ascii(file_path):\n",
    "    try:\n",
    "        with open(file_path, \"r\", encoding=\"utf-8\") as file:\n",
    "            content = file.read()\n",
    "        # Convert to ASCII by ignoring or replacing non-ASCII characters\n",
    "        ascii_content = content.encode(\"ascii\", errors=\"ignore\").decode(\"ascii\")\n",
    "        return ascii_content\n",
    "    except Exception as e:\n",
    "        print(f\"Error reading file as ASCII: {e}\")\n",
    "        return None\n",
    "\n",
    "def save_ascii_data_to_file(ascii_data, file_path):\n",
    "    try:\n",
    "        with open(file_path, \"w\", encoding=\"ascii\") as file:\n",
    "            file.write(ascii_data)\n",
    "    except Exception as e:\n",
    "        print(f\"Error saving ASCII data to file: {e}\")\n",
    "\n",
    "def convert_file_to_ascii(input_file_path, output_file_path):\n",
    "    ascii_data = read_file_as_ascii(input_file_path)\n",
    "    if ascii_data:\n",
    "        save_ascii_data_to_file(ascii_data, output_file_path)\n",
    "\n"
   ]
  },
  {
   "cell_type": "code",
   "execution_count": 2,
   "metadata": {},
   "outputs": [],
   "source": [
    "convert_file_to_ascii(\n",
    "    input_file_path='./files/cidade_do_vicio.txt', \n",
    "    output_file_path='./files/cidade_do_vicio__ascii.txt'\n",
    ")"
   ]
  }
 ],
 "metadata": {
  "kernelspec": {
   "display_name": "base",
   "language": "python",
   "name": "python3"
  },
  "language_info": {
   "codemirror_mode": {
    "name": "ipython",
    "version": 3
   },
   "file_extension": ".py",
   "mimetype": "text/x-python",
   "name": "python",
   "nbconvert_exporter": "python",
   "pygments_lexer": "ipython3",
   "version": "3.11.7"
  }
 },
 "nbformat": 4,
 "nbformat_minor": 2
}
